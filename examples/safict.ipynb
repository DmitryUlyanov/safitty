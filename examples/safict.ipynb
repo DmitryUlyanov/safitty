{
 "cells": [
  {
   "cell_type": "markdown",
   "source": [
    "# Safitty dict\n",
    "Usage:"
   ],
   "metadata": {
    "collapsed": false
   }
  },
  {
   "cell_type": "code",
   "execution_count": 1,
   "outputs": [
    {
     "name": "stdout",
     "text": [
      "Safict(\n\tseparator=None\n\tlength=5\n\tstorage={'paths': {'images': 'important/path/to/images/',\n           'jsons': ['first', 'second', 'third']},\n 'reader': {'need_reader': True,\n            'params': {'grayscale': True, 'height': 521, 'width': 512}},\n 'status': 1,\n 'transforms': [{'function': 'ToTensor', 'name': 'Normalize', 'params': None},\n                {'function': 'Pad',\n                 'name': 'Padding',\n                 'params': {'fill': 3, 'padding_mode': 'reflect'}}],\n 'verbose': False}\n)\n"
     ],
     "output_type": "stream"
    }
   ],
   "source": [
    "from safitty import Safict\n",
    "\n",
    "safict = Safict.load(\"./config.yml\")\n",
    "print(safict)"
   ],
   "metadata": {
    "collapsed": false,
    "pycharm": {
     "name": "#%%\n",
     "is_executing": false
    }
   }
  },
  {
   "cell_type": "code",
   "execution_count": 0,
   "outputs": [],
   "source": [],
   "metadata": {
    "collapsed": false,
    "pycharm": {
     "name": "#%%\n",
     "is_executing": false
    }
   }
  },
  {
   "cell_type": "code",
   "execution_count": null,
   "outputs": [],
   "source": [
    "\n"
   ],
   "metadata": {
    "collapsed": false,
    "pycharm": {
     "name": "#%%\n"
    }
   }
  }
 ],
 "metadata": {
  "language_info": {
   "codemirror_mode": {
    "name": "ipython",
    "version": 2
   },
   "file_extension": ".py",
   "mimetype": "text/x-python",
   "name": "python",
   "nbconvert_exporter": "python",
   "pygments_lexer": "ipython2",
   "version": "2.7.6"
  },
  "kernelspec": {
   "name": "python3",
   "language": "python",
   "display_name": "Python 3"
  },
  "pycharm": {
   "stem_cell": {
    "cell_type": "raw",
    "source": [],
    "metadata": {
     "collapsed": false
    }
   }
  }
 },
 "nbformat": 4,
 "nbformat_minor": 0
}